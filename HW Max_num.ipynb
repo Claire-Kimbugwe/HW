{
 "cells": [
  {
   "cell_type": "markdown",
   "metadata": {},
   "source": [
    "### Find the largest number in a list recursively"
   ]
  },
  {
   "cell_type": "code",
   "execution_count": null,
   "metadata": {},
   "outputs": [],
   "source": [
    "def largest(mylist):\n",
    "    n=len(mylist)\n",
    "    if n==1:\n",
    "        return mylist[0]\n",
    "    elif mylist[0]> mylist[1]:\n",
    "        mylist.pop(1)\n",
    "    elif mylist[1]> mylist[0]:\n",
    "        mylist.pop(0)\n",
    "        \n",
    "    return largest(mylist)\n",
    "\n",
    "\n",
    "#TEST\n",
    "largest([1,9,3,4,5,6]),largest([1,9,3,4,15,6]) ,largest([1,9,13,4,5,6])"
   ]
  },
  {
   "cell_type": "markdown",
   "metadata": {},
   "source": [
    "### Find an item in an array using Binary Search"
   ]
  },
  {
   "cell_type": "code",
   "execution_count": 34,
   "metadata": {},
   "outputs": [
    {
     "data": {
      "text/plain": [
       "('got it at index 0 of [1]',\n",
       " 'got it at index 1 of [4, 5, 6]',\n",
       " 'got it at index 1 of [2, 3]')"
      ]
     },
     "execution_count": 34,
     "metadata": {},
     "output_type": "execute_result"
    }
   ],
   "source": [
    "def again(a,item):\n",
    "    mid=len(a)//2\n",
    "    guess=a[mid]\n",
    "    while mid >= 0:\n",
    "        if guess == item:\n",
    "            return f'got it at index {mid} of {a}'\n",
    "        elif guess > item:\n",
    "            return again(a[:mid],item)\n",
    "        else:\n",
    "            return again(a[mid:],item)\n",
    "        \n",
    "        \n",
    "#TEST\n",
    "again([1,2,3,4,5,6], 1),   again([1,2,3,4,5,6], 5),again([1,2,3,4,5,6], 3)     "
   ]
  },
  {
   "cell_type": "markdown",
   "metadata": {},
   "source": [
    "### Tried testing but got an error "
   ]
  },
  {
   "cell_type": "code",
   "execution_count": 20,
   "metadata": {},
   "outputs": [
    {
     "ename": "SyntaxError",
     "evalue": "invalid syntax (<ipython-input-20-537c6863367e>, line 11)",
     "output_type": "error",
     "traceback": [
      "\u001b[0;36m  File \u001b[0;32m\"<ipython-input-20-537c6863367e>\"\u001b[0;36m, line \u001b[0;32m11\u001b[0m\n\u001b[0;31m    print\"%d. '%s'->\"%(i+1,t[0]), r=balance(t[0])\u001b[0m\n\u001b[0m                    ^\u001b[0m\n\u001b[0;31mSyntaxError\u001b[0m\u001b[0;31m:\u001b[0m invalid syntax\n"
     ]
    }
   ],
   "source": [
    "def bal(s):\n",
    "    return True\n",
    "\n",
    "\n",
    "tests =[('[1,2,3,4,5,6], 6','got it at index 1 of [5, 6]'),('[1,2,3,4,5,6], 1','got it at index 0 of [1]'),\n",
    "       ('[1,2,3,4,5,6], 5', 'got it at index 1 of [4, 5, 6]')]\n",
    "\n",
    "\n",
    "for i,j in enumerate(tests):\n",
    "    \n",
    "    print\"%d. '%s'->\" %(i+1,t[0]), r=balance(t[0])\n",
    "    if r == t[1]:\n",
    "        print('Success')\n",
    "    else:\n",
    "        print('Failure: Expected %s got: %s'%(t[1],r))"
   ]
  },
  {
   "cell_type": "code",
   "execution_count": null,
   "metadata": {},
   "outputs": [],
   "source": []
  }
 ],
 "metadata": {
  "kernelspec": {
   "display_name": "Python 3",
   "language": "python",
   "name": "python3"
  },
  "language_info": {
   "codemirror_mode": {
    "name": "ipython",
    "version": 3
   },
   "file_extension": ".py",
   "mimetype": "text/x-python",
   "name": "python",
   "nbconvert_exporter": "python",
   "pygments_lexer": "ipython3",
   "version": "3.6.5"
  }
 },
 "nbformat": 4,
 "nbformat_minor": 2
}
